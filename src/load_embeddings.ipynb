{
 "cells": [
  {
   "cell_type": "code",
   "execution_count": null,
   "metadata": {},
   "outputs": [],
   "source": [
    "import os\n",
    "from qdrant_client.http.models import Batch\n",
    "from qdrant_client.http import models\n",
    "from qdrant_client import QdrantClient\n",
    "import json\n",
    "from sentence_transformers import SentenceTransformer\n",
    "\n",
    "from dotenv import load_dotenv\n",
    "load_dotenv(\"../\")"
   ]
  },
  {
   "cell_type": "code",
   "execution_count": null,
   "metadata": {},
   "outputs": [],
   "source": [
    "encoder = SentenceTransformer(\"all-MiniLM-L6-v2\")"
   ]
  },
  {
   "cell_type": "code",
   "execution_count": null,
   "metadata": {},
   "outputs": [],
   "source": [
    "annotations = json.load(open(\"../annotations.json\"))\n"
   ]
  },
  {
   "cell_type": "code",
   "execution_count": null,
   "metadata": {},
   "outputs": [],
   "source": [
    "\n",
    "vector_size = encoder.get_sentence_embedding_dimension()\n",
    "\n",
    "def get_embedding(text: str) -> list:\n",
    "    # embedding = openai.embeddings.create(\n",
    "    #     input=[text],\n",
    "    #     model=embedding_model,\n",
    "    # ).data[0].embedding\n",
    "    embedding = encoder.encode(text).tolist()\n",
    "    \n",
    "    return embedding\n"
   ]
  },
  {
   "cell_type": "code",
   "execution_count": null,
   "metadata": {},
   "outputs": [],
   "source": [
    "for i, annotation in enumerate(annotations):\n",
    "    print(annotations[annotation])\n",
    "    break"
   ]
  },
  {
   "cell_type": "code",
   "execution_count": null,
   "metadata": {},
   "outputs": [],
   "source": [
    "qc = QdrantClient(\"localhost\", port=6333)"
   ]
  },
  {
   "cell_type": "code",
   "execution_count": null,
   "metadata": {},
   "outputs": [],
   "source": [
    "collections = qc.get_collections()\n",
    "collection_name = \"annotations\"\n",
    "if collection_name not in [collection.name for collection in collections.collections]:\n",
    "    first_collection = qc.recreate_collection(\n",
    "        collection_name=collection_name,\n",
    "        vectors_config = models.VectorParams(size=vector_size, distance=models.Distance.COSINE)\n",
    "    )\n",
    "\n",
    "qc.get_collections().collections[0].name"
   ]
  },
  {
   "cell_type": "code",
   "execution_count": null,
   "metadata": {},
   "outputs": [],
   "source": [
    "def annotation_to_vector(annotation: dict) -> models.Vector:\n",
    "    combined_text = annotation[\"name\"] + \" \" + \", \".join([a[\"name\"] for a in annotation['tags']])\n",
    "    print(f\"Combined text: {combined_text}\")\n",
    "    return get_embedding(combined_text)\n",
    "\n",
    "for i, annotation in enumerate(annotations):\n",
    "    vector = annotation_to_vector(annotations[annotation])\n",
    "    print(vector)\n",
    "    break"
   ]
  },
  {
   "cell_type": "code",
   "execution_count": null,
   "metadata": {},
   "outputs": [],
   "source": [
    "len(annotations)"
   ]
  },
  {
   "cell_type": "code",
   "execution_count": null,
   "metadata": {},
   "outputs": [],
   "source": [
    "for id, annotation in enumerate(annotations):\n",
    "    # check\n",
    "    # query_filter = models.Filter(must=[models.HasIdCondition(has_id=[annotation])])\n",
    "    # res = qc.scroll(\n",
    "        # collection_name=collection_name,\n",
    "        # scroll_filter=query_filter,\n",
    "    # )\n",
    "    # print(f\"Res: for {annotations[annotation]} {res}\")\n",
    "    # if len(res[0]) > 0:\n",
    "        # continue\n",
    "\n",
    "    if annotations[annotation].keys() != {\"uid\", \"name\", \"tags\", \"viewerUrl\"}:\n",
    "        continue\n",
    "    qc.upsert(\n",
    "        collection_name=collection_name,\n",
    "        points=Batch(\n",
    "            ids=[id],\n",
    "            vectors=[annotation_to_vector(annotations[annotation])],\n",
    "            payloads=[\n",
    "                {\n",
    "                    \"name\": annotations[annotation][\"name\"],\n",
    "                    \"uid\": annotations[annotation][\"uid\"],\n",
    "                    \"tags\": annotations[annotation][\"tags\"],\n",
    "                }\n",
    "            ],\n",
    "        ),\n",
    "    )"
   ]
  },
  {
   "cell_type": "code",
   "execution_count": null,
   "metadata": {},
   "outputs": [],
   "source": [
    "resume = \"person\"\n",
    "\n",
    "res = qc.search(\n",
    "    collection_name=collection_name,\n",
    "    query_vector=get_embedding(resume),\n",
    ")\n",
    "\n",
    "res"
   ]
  }
 ],
 "metadata": {
  "kernelspec": {
   "display_name": ".venv",
   "language": "python",
   "name": "python3"
  },
  "language_info": {
   "codemirror_mode": {
    "name": "ipython",
    "version": 3
   },
   "file_extension": ".py",
   "mimetype": "text/x-python",
   "name": "python",
   "nbconvert_exporter": "python",
   "pygments_lexer": "ipython3",
   "version": "3.10.11"
  }
 },
 "nbformat": 4,
 "nbformat_minor": 2
}
