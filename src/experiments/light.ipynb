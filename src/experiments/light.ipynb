{
 "cells": [
  {
   "cell_type": "code",
   "execution_count": 1,
   "metadata": {},
   "outputs": [],
   "source": [
    "import bpy"
   ]
  },
  {
   "cell_type": "code",
   "execution_count": 2,
   "metadata": {},
   "outputs": [
    {
     "name": "stdout",
     "output_type": "stream",
     "text": [
      "C:\\Program Files (x86)\\Steam\\steamapps\\common\\Blender\n"
     ]
    }
   ],
   "source": [
    "bpy.app.binary_path = r\"C:\\Program Files (x86)\\Steam\\steamapps\\common\\Blender\"\n",
    "print(bpy.app.binary_path)\n"
   ]
  },
  {
   "cell_type": "code",
   "execution_count": 5,
   "metadata": {},
   "outputs": [
    {
     "name": "stdout",
     "output_type": "stream",
     "text": [
      "Data are loaded, start creating Blender stuff\n",
      "glTF import finished in 0.06s\n"
     ]
    },
    {
     "data": {
      "text/plain": [
       "{'FINISHED'}"
      ]
     },
     "execution_count": 5,
     "metadata": {},
     "output_type": "execute_result"
    }
   ],
   "source": [
    "\n",
    "# get all files in this\n",
    "\n",
    "for obj in bpy.data.objects: bpy.data.objects.remove(obj)\n",
    "\n",
    "file_path = \"C:\\\\Users\\\\noahp\\\\.objaverse\\\\hf-objaverse-v1\\\\glbs/000-023/99257e9b3b1443bd91a22d61bfeb7182.glb\"\n",
    "bpy.ops.import_scene.gltf(filepath=file_path)"
   ]
  },
  {
   "cell_type": "code",
   "execution_count": 4,
   "metadata": {},
   "outputs": [
    {
     "name": "stdout",
     "output_type": "stream",
     "text": [
      "Info: Saved \"test.blend\"\n"
     ]
    },
    {
     "data": {
      "text/plain": [
       "{'FINISHED'}"
      ]
     },
     "execution_count": 4,
     "metadata": {},
     "output_type": "execute_result"
    }
   ],
   "source": [
    "bpy.data.scenes[0]\n",
    "\n",
    "# open blender gui\n",
    "bpy.ops.wm.save_as_mainfile(filepath=\"./test.blend\")"
   ]
  }
 ],
 "metadata": {
  "kernelspec": {
   "display_name": ".venv",
   "language": "python",
   "name": "python3"
  },
  "language_info": {
   "codemirror_mode": {
    "name": "ipython",
    "version": 3
   },
   "file_extension": ".py",
   "mimetype": "text/x-python",
   "name": "python",
   "nbconvert_exporter": "python",
   "pygments_lexer": "ipython3",
   "version": "3.10.11"
  }
 },
 "nbformat": 4,
 "nbformat_minor": 2
}
